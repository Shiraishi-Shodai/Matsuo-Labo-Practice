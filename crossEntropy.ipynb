{
 "cells": [
  {
   "cell_type": "code",
   "execution_count": 1,
   "metadata": {},
   "outputs": [],
   "source": [
    "import numpy as np\n",
    "import pandas as pd\n",
    "from matplotlib import pyplot as plt"
   ]
  },
  {
   "cell_type": "markdown",
   "metadata": {},
   "source": [
    "# 交差エントロピー\n",
    "2つの確率分布のずれを表す。この値が大きいほど、2つの確率分布のずれは大きいという意味\n",
    "\n",
    "$$\n",
    "H(p, q) = -\\sum_{i = 0}^{n}p(x_i)\\log q(x_i)\n",
    "$$"
   ]
  },
  {
   "cell_type": "markdown",
   "metadata": {},
   "source": [
    "例１）以下の確率分布pとqの交差エントロピーを計算せよ\n",
    "| x   | p(x) | q(x) |\n",
    "|-----|------|------|\n",
    "| A   | 0.4  | 0.35 |\n",
    "| B   | 0.3  | 0.25 |\n",
    "| C   | 0.2  | 0.30 |\n",
    "| D   | 0.1  | 0.10 |\n",
    "\n"
   ]
  },
  {
   "cell_type": "code",
   "execution_count": null,
   "metadata": {},
   "outputs": [
    {
     "name": "stdout",
     "output_type": "stream",
     "text": [
      "1.30687022830003\n",
      "1.2798542258336674\n",
      "1.3347848402670728\n"
     ]
    }
   ],
   "source": [
    "p = np.array([0.4, 0.3, 0.2, 0.1])\n",
    "q = np.array([0.35, 0.25, 0.3, 0.1])\n",
    "r = np.array([0.4, 0.3, 0.2, 0.1])\n",
    "\n",
    "hpq = -sum(p * np.log(q))\n",
    "print(hpq)\n",
    "\n",
    "# 実質H(p)\n",
    "hpq = -sum(p * np.log(r))\n",
    "print(hpq)\n",
    "\n",
    "hpq = -sum(q * np.log(p))\n",
    "print(hpq)"
   ]
  },
  {
   "cell_type": "markdown",
   "metadata": {},
   "source": [
    "**Hint**\n",
    "交差エントロピーの最小値は必ずしも0になるとは限らない。交差エントロピーが0になるのは、p=qかつ、ある要素の確率が100%のときだけ。\n",
    "ただp = qだけのときは、H(p)を求めているに過ぎない"
   ]
  },
  {
   "cell_type": "code",
   "execution_count": null,
   "metadata": {},
   "outputs": [
    {
     "name": "stdout",
     "output_type": "stream",
     "text": [
      "-1.000000082690371e-10\n"
     ]
    }
   ],
   "source": [
    "p = np.array([1, 0, 0, 0])\n",
    "q = np.array([1, 0, 0, 0])\n",
    "\n",
    "epsilon = 1e-10  # log(0)は定義できないため、すごく小さい値を足す\n",
    "hpq = -sum(p * np.log(q + epsilon))  # 0 を回避\n",
    "print(hpq)  # 0 になる\n"
   ]
  }
 ],
 "metadata": {
  "kernelspec": {
   "display_name": "env",
   "language": "python",
   "name": "python3"
  },
  "language_info": {
   "codemirror_mode": {
    "name": "ipython",
    "version": 3
   },
   "file_extension": ".py",
   "mimetype": "text/x-python",
   "name": "python",
   "nbconvert_exporter": "python",
   "pygments_lexer": "ipython3",
   "version": "3.10.11"
  }
 },
 "nbformat": 4,
 "nbformat_minor": 2
}
